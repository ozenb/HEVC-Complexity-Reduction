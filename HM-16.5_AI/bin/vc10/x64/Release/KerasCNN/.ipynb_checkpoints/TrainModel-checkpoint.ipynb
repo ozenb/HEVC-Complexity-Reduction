{
 "cells": [
  {
   "cell_type": "markdown",
   "metadata": {},
   "source": [
    "# Train the model "
   ]
  },
  {
   "cell_type": "markdown",
   "metadata": {},
   "source": [
    "### Import Packages"
   ]
  },
  {
   "cell_type": "code",
   "execution_count": 11,
   "metadata": {},
   "outputs": [
    {
     "name": "stderr",
     "output_type": "stream",
     "text": [
      "Using TensorFlow backend.\n"
     ]
    }
   ],
   "source": [
    "import os\n",
    "import numpy as np\n",
    "import keras"
   ]
  },
  {
   "cell_type": "markdown",
   "metadata": {},
   "source": [
    "### Constants"
   ]
  },
  {
   "cell_type": "code",
   "execution_count": 51,
   "metadata": {},
   "outputs": [],
   "source": [
    "path = '/mnt/FCD489C6D489839C/Projeler/STAR/Dataset/CU64Samples_AI_CPIH_768_1536_2880_4928_qp27_Test.dat'\n",
    "QP = 27\n",
    "CU = 64\n",
    "EPOCH = 1\n",
    "BATCH_SIZE = 64\n",
    "size = os.path.getsize(path)\n",
    "SAMPLENUMBER = int(size / (1 + CU*CU))\n",
    "restSample = SAMPLENUMBER\n"
   ]
  },
  {
   "cell_type": "markdown",
   "metadata": {},
   "source": [
    "### Generator Class"
   ]
  },
  {
   "cell_type": "code",
   "execution_count": 56,
   "metadata": {},
   "outputs": [],
   "source": [
    "class DataGenerator(keras.utils.Sequence):\n",
    "    \n",
    "    def __init__(self, path,sampleNumber, batch_size, cu):\n",
    "        self.path = path\n",
    "        self.batch_size = batch_size\n",
    "        self.sampleNumber = sampleNumber\n",
    "        self.cu = cu\n",
    "        \n",
    "        #Initialize label and inputs\n",
    "        self.label = np.zeros((self.batch_size,1))\n",
    "        self.input = np.zeros((self.batch_size,self.cu*self.cu))\n",
    "        \n",
    "        \n",
    "        \n",
    "    def  __len__(self):\n",
    "        return int(np.floor(self.sampleNumber / self.batch_size))\n",
    "    \n",
    "    def __getitem__(self, index):\n",
    "        self.f = open(path,'rb')\n",
    "        #Setting offset\n",
    "        offset = (1 + self.cu*self.cu)*index\n",
    "        self.f.seek(offset,0)\n",
    "        \n",
    "        #Start Reading Bytes\n",
    "        for i in range(self.batch_size):\n",
    "            #Label\n",
    "            self.label[i,0] = self.f.read(1)[0]\n",
    "            #Input\n",
    "            self.tmp = self.f.read(self.cu*self.cu)\n",
    "            for k in range(self.cu*self.cu):\n",
    "                #Assign input and decode\n",
    "                self.input[i,k] = self.tmp[k]\n",
    "            \n",
    "        \n",
    "        #Reshape input to fit NN input\n",
    "        self.input = self.input.reshape((self.batch_size,self.cu,self.cu))\n",
    "                \n",
    "        self.f.close()\n",
    "        \n",
    "        \n",
    "        return self.input, self.label\n",
    "    "
   ]
  }
 ],
 "metadata": {
  "kernelspec": {
   "display_name": "Python 3",
   "language": "python",
   "name": "python3"
  },
  "language_info": {
   "codemirror_mode": {
    "name": "ipython",
    "version": 3
   },
   "file_extension": ".py",
   "mimetype": "text/x-python",
   "name": "python",
   "nbconvert_exporter": "python",
   "pygments_lexer": "ipython3",
   "version": "3.6.5"
  }
 },
 "nbformat": 4,
 "nbformat_minor": 2
}
