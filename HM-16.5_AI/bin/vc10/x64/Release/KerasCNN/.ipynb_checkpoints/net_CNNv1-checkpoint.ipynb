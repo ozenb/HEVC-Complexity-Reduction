{
 "cells": [
  {
   "cell_type": "markdown",
   "metadata": {},
   "source": [
    "# Keras CNN v1"
   ]
  },
  {
   "cell_type": "markdown",
   "metadata": {},
   "source": [
    "## Import Packages"
   ]
  },
  {
   "cell_type": "code",
   "execution_count": 8,
   "metadata": {},
   "outputs": [],
   "source": [
    "import keras\n",
    "from keras.models import Sequential, Model\n",
    "from keras.layers import Dense, Dropout, Flatten, Conv2D, MaxPooling2D, BatchNormalization, Input\n"
   ]
  },
  {
   "cell_type": "markdown",
   "metadata": {},
   "source": [
    "## Preprocess and Variables"
   ]
  },
  {
   "cell_type": "code",
   "execution_count": 6,
   "metadata": {},
   "outputs": [],
   "source": [
    "input_shape = (64,64,1)"
   ]
  },
  {
   "cell_type": "markdown",
   "metadata": {},
   "source": [
    "## Generate Model"
   ]
  },
  {
   "cell_type": "markdown",
   "metadata": {},
   "source": [
    "### Feature Selection and Branches"
   ]
  },
  {
   "cell_type": "code",
   "execution_count": 26,
   "metadata": {},
   "outputs": [],
   "source": [
    "image16 = Input(shape = (16,16,1))\n",
    "image32 = Input(shape = (32,32,1))\n",
    "image64 = Input(shape = (64,64,1))\n",
    "#Downsampling and mean removal is ignored\n",
    "\n",
    "#Branch 1 \n",
    "branch_1 = Conv2D(16,(4,4),strides=(4,4))(image16)\n",
    "branch_1_2 = Conv2D(24,(2,2),strides=(2,2))(branch_1)\n",
    "branch_1_3 = Conv2D(32,(2,2),strides=(2,2))(branch_1_2)\n",
    "\n",
    "#Branch 2\n",
    "branch_2 = Conv2D(16,(4,4),strides=(4,4))(image32)\n",
    "branch_2_2 = Conv2D(24,(2,2),strides=(2,2))(branch_2)\n",
    "branch_2_3 = Conv2D(32,(2,2),strides=(2,2))(branch_2_2)\n",
    "\n",
    "#Branch 3\n",
    "branch_3 = Conv2D(16,(4,4),strides=(4,4))(image64)\n",
    "branch_3_2 = Conv2D(24,(2,2),strides=(2,2))(branch_3)\n",
    "branch_3_3 = Conv2D(32,(2,2),strides=(2,2))(branch_3_2)\n"
   ]
  },
  {
   "cell_type": "markdown",
   "metadata": {},
   "source": [
    "### Flatten Layer"
   ]
  },
  {
   "cell_type": "code",
   "execution_count": 36,
   "metadata": {},
   "outputs": [],
   "source": [
    "#Branch 1\n",
    "branch_1_2_f = Flatten()(branch_1_2)\n",
    "branch_1_3_f = Flatten()(branch_1_3)\n",
    "# Branch 2\n",
    "branch_2_2_f = Flatten()(branch_2_2)\n",
    "branch_2_3_f = Flatten()(branch_2_3)\n",
    "\n",
    "#Branch 3\n",
    "branch_3_2_f = Flatten()(branch_3_2)\n",
    "branch_3_3_f = Flatten()(branch_3_3)\n",
    "\n",
    "\n",
    "flatten = keras.layers.Concatenate()([branch_1_2_f, branch_1_3_f, branch_2_2_f, branch_2_3_f, branch_3_2_f, branch_3_3_f])\n"
   ]
  },
  {
   "cell_type": "code",
   "execution_count": null,
   "metadata": {},
   "outputs": [],
   "source": [
    "\n"
   ]
  },
  {
   "cell_type": "code",
   "execution_count": null,
   "metadata": {},
   "outputs": [],
   "source": []
  }
 ],
 "metadata": {
  "kernelspec": {
   "display_name": "Python 3",
   "language": "python",
   "name": "python3"
  },
  "language_info": {
   "codemirror_mode": {
    "name": "ipython",
    "version": 3
   },
   "file_extension": ".py",
   "mimetype": "text/x-python",
   "name": "python",
   "nbconvert_exporter": "python",
   "pygments_lexer": "ipython3",
   "version": "3.6.5"
  }
 },
 "nbformat": 4,
 "nbformat_minor": 2
}
