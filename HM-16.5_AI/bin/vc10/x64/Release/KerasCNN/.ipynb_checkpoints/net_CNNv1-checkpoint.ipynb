{
 "cells": [
  {
   "cell_type": "markdown",
   "metadata": {},
   "source": [
    "# Keras CNN v1"
   ]
  },
  {
   "cell_type": "markdown",
   "metadata": {},
   "source": [
    "## Import Packages"
   ]
  },
  {
   "cell_type": "code",
   "execution_count": 1,
   "metadata": {},
   "outputs": [
    {
     "name": "stderr",
     "output_type": "stream",
     "text": [
      "Using TensorFlow backend.\n"
     ]
    }
   ],
   "source": [
    "import keras\n",
    "from keras.models import Sequential, Model\n",
    "from keras.layers import Dense, Dropout, Flatten, Conv2D, MaxPooling2D, BatchNormalization, Input\n"
   ]
  },
  {
   "cell_type": "markdown",
   "metadata": {},
   "source": [
    "## Preprocess and Variables"
   ]
  },
  {
   "cell_type": "code",
   "execution_count": 24,
   "metadata": {},
   "outputs": [],
   "source": [
    "input_shape = (64,64,1)\n",
    "image16 = Input(shape = (16,16,1))\n",
    "image32 = Input(shape = (32,32,1))\n",
    "image64 = Input(shape = (64,64,1))\n",
    "qp = Input(shape = (1,),dtype='float32')\n"
   ]
  },
  {
   "cell_type": "markdown",
   "metadata": {},
   "source": [
    "## Generate Model"
   ]
  },
  {
   "cell_type": "markdown",
   "metadata": {},
   "source": [
    "### Feature Selection and Branches"
   ]
  },
  {
   "cell_type": "code",
   "execution_count": 25,
   "metadata": {},
   "outputs": [],
   "source": [
    "\n",
    "#Downsampling and mean removal is ignored\n",
    "\n",
    "#Branch 1 \n",
    "branch_1 = Conv2D(16,(4,4),strides=(4,4))(image16)\n",
    "branch_1_2 = Conv2D(24,(2,2),strides=(2,2))(branch_1)\n",
    "branch_1_3 = Conv2D(32,(2,2),strides=(2,2))(branch_1_2)\n",
    "\n",
    "#Branch 2\n",
    "branch_2 = Conv2D(16,(4,4),strides=(4,4))(image32)\n",
    "branch_2_2 = Conv2D(24,(2,2),strides=(2,2))(branch_2)\n",
    "branch_2_3 = Conv2D(32,(2,2),strides=(2,2))(branch_2_2)\n",
    "\n",
    "#Branch 3\n",
    "branch_3 = Conv2D(16,(4,4),strides=(4,4))(image64)\n",
    "branch_3_2 = Conv2D(24,(2,2),strides=(2,2))(branch_3)\n",
    "branch_3_3 = Conv2D(32,(2,2),strides=(2,2))(branch_3_2)\n"
   ]
  },
  {
   "cell_type": "markdown",
   "metadata": {},
   "source": [
    "### Flatten Layer"
   ]
  },
  {
   "cell_type": "code",
   "execution_count": 26,
   "metadata": {},
   "outputs": [],
   "source": [
    "#Branch 1\n",
    "branch_1_2_f = Flatten()(branch_1_2)\n",
    "branch_1_3_f = Flatten()(branch_1_3)\n",
    "# Branch 2\n",
    "branch_2_2_f = Flatten()(branch_2_2)\n",
    "branch_2_3_f = Flatten()(branch_2_3)\n",
    "\n",
    "#Branch 3\n",
    "branch_3_2_f = Flatten()(branch_3_2)\n",
    "branch_3_3_f = Flatten()(branch_3_3)\n",
    "\n",
    "\n",
    "flatten = keras.layers.Concatenate()([branch_1_2_f, branch_1_3_f, branch_2_2_f, branch_2_3_f, branch_3_2_f, branch_3_3_f])\n"
   ]
  },
  {
   "cell_type": "markdown",
   "metadata": {},
   "source": [
    "### 3 Level FC Layers \n"
   ]
  },
  {
   "cell_type": "code",
   "execution_count": 27,
   "metadata": {},
   "outputs": [],
   "source": [
    "#Level 1 \n",
    "level_1_1 = Dense(64,activation = 'relu')(flatten)\n",
    "#Add QP\n",
    "level_1_1 = keras.layers.Concatenate()([level_1_1, qp])\n",
    "level_1_2 = Dense(48,activation = 'relu')(level_1_1)\n",
    "level_1_2 = keras.layers.Concatenate()([level_1_2, qp])\n",
    "\n",
    "#Level 2\n",
    "level_2_1 = Dense(128,activation='relu')(flatten)\n",
    "#Add QP\n",
    "level_2_1 = keras.layers.Concatenate()([level_2_1, qp])\n",
    "level_2_2 = Dense(96,activation='relu')(level_2_1)\n",
    "level_2_2 = keras.layers.Concatenate()([level_2_2, qp])\n",
    "\n",
    "#Level 3\n",
    "level_3_1 = Dense(256,activation='relu')(flatten)\n",
    "#Add QP\n",
    "level_3_1 = keras.layers.Concatenate()([level_3_1, qp])\n",
    "level_3_2 = Dense(192,activation='relu')(level_3_1)\n",
    "level_3_2 = keras.layers.Concatenate()([level_3_2, qp])\n"
   ]
  },
  {
   "cell_type": "markdown",
   "metadata": {},
   "source": [
    "### Output Layers"
   ]
  },
  {
   "cell_type": "code",
   "execution_count": 28,
   "metadata": {},
   "outputs": [],
   "source": [
    "y_1 = Dense(1,activation='sigmoid')(level_1_2)\n",
    "\n",
    "y_2 = Dense(4,activation='sigmoid')(level_2_2)\n",
    "\n",
    "y_3 = Dense(8,activation='sigmoid')(level_3_2)"
   ]
  },
  {
   "cell_type": "markdown",
   "metadata": {},
   "source": [
    "### Initialize the Model"
   ]
  },
  {
   "cell_type": "code",
   "execution_count": 29,
   "metadata": {},
   "outputs": [],
   "source": [
    "model = Model(inputs=[image16, image32, image64, qp], outputs = [y_1, y_2, y_3])"
   ]
  },
  {
   "cell_type": "code",
   "execution_count": 31,
   "metadata": {
    "scrolled": false
   },
   "outputs": [
    {
     "name": "stdout",
     "output_type": "stream",
     "text": [
      "__________________________________________________________________________________________________\n",
      "Layer (type)                    Output Shape         Param #     Connected to                     \n",
      "==================================================================================================\n",
      "input_29 (InputLayer)           (None, 16, 16, 1)    0                                            \n",
      "__________________________________________________________________________________________________\n",
      "input_30 (InputLayer)           (None, 32, 32, 1)    0                                            \n",
      "__________________________________________________________________________________________________\n",
      "input_31 (InputLayer)           (None, 64, 64, 1)    0                                            \n",
      "__________________________________________________________________________________________________\n",
      "conv2d_19 (Conv2D)              (None, 4, 4, 16)     272         input_29[0][0]                   \n",
      "__________________________________________________________________________________________________\n",
      "conv2d_22 (Conv2D)              (None, 8, 8, 16)     272         input_30[0][0]                   \n",
      "__________________________________________________________________________________________________\n",
      "conv2d_25 (Conv2D)              (None, 16, 16, 16)   272         input_31[0][0]                   \n",
      "__________________________________________________________________________________________________\n",
      "conv2d_20 (Conv2D)              (None, 2, 2, 24)     1560        conv2d_19[0][0]                  \n",
      "__________________________________________________________________________________________________\n",
      "conv2d_23 (Conv2D)              (None, 4, 4, 24)     1560        conv2d_22[0][0]                  \n",
      "__________________________________________________________________________________________________\n",
      "conv2d_26 (Conv2D)              (None, 8, 8, 24)     1560        conv2d_25[0][0]                  \n",
      "__________________________________________________________________________________________________\n",
      "conv2d_21 (Conv2D)              (None, 1, 1, 32)     3104        conv2d_20[0][0]                  \n",
      "__________________________________________________________________________________________________\n",
      "conv2d_24 (Conv2D)              (None, 2, 2, 32)     3104        conv2d_23[0][0]                  \n",
      "__________________________________________________________________________________________________\n",
      "conv2d_27 (Conv2D)              (None, 4, 4, 32)     3104        conv2d_26[0][0]                  \n",
      "__________________________________________________________________________________________________\n",
      "flatten_13 (Flatten)            (None, 96)           0           conv2d_20[0][0]                  \n",
      "__________________________________________________________________________________________________\n",
      "flatten_14 (Flatten)            (None, 32)           0           conv2d_21[0][0]                  \n",
      "__________________________________________________________________________________________________\n",
      "flatten_15 (Flatten)            (None, 384)          0           conv2d_23[0][0]                  \n",
      "__________________________________________________________________________________________________\n",
      "flatten_16 (Flatten)            (None, 128)          0           conv2d_24[0][0]                  \n",
      "__________________________________________________________________________________________________\n",
      "flatten_17 (Flatten)            (None, 1536)         0           conv2d_26[0][0]                  \n",
      "__________________________________________________________________________________________________\n",
      "flatten_18 (Flatten)            (None, 512)          0           conv2d_27[0][0]                  \n",
      "__________________________________________________________________________________________________\n",
      "concatenate_23 (Concatenate)    (None, 2688)         0           flatten_13[0][0]                 \n",
      "                                                                 flatten_14[0][0]                 \n",
      "                                                                 flatten_15[0][0]                 \n",
      "                                                                 flatten_16[0][0]                 \n",
      "                                                                 flatten_17[0][0]                 \n",
      "                                                                 flatten_18[0][0]                 \n",
      "__________________________________________________________________________________________________\n",
      "dense_28 (Dense)                (None, 64)           172096      concatenate_23[0][0]             \n",
      "__________________________________________________________________________________________________\n",
      "input_32 (InputLayer)           (None, 1)            0                                            \n",
      "__________________________________________________________________________________________________\n",
      "dense_30 (Dense)                (None, 128)          344192      concatenate_23[0][0]             \n",
      "__________________________________________________________________________________________________\n",
      "dense_32 (Dense)                (None, 256)          688384      concatenate_23[0][0]             \n",
      "__________________________________________________________________________________________________\n",
      "concatenate_24 (Concatenate)    (None, 65)           0           dense_28[0][0]                   \n",
      "                                                                 input_32[0][0]                   \n",
      "__________________________________________________________________________________________________\n",
      "concatenate_26 (Concatenate)    (None, 129)          0           dense_30[0][0]                   \n",
      "                                                                 input_32[0][0]                   \n",
      "__________________________________________________________________________________________________\n",
      "concatenate_28 (Concatenate)    (None, 257)          0           dense_32[0][0]                   \n",
      "                                                                 input_32[0][0]                   \n",
      "__________________________________________________________________________________________________\n",
      "dense_29 (Dense)                (None, 48)           3168        concatenate_24[0][0]             \n",
      "__________________________________________________________________________________________________\n",
      "dense_31 (Dense)                (None, 96)           12480       concatenate_26[0][0]             \n",
      "__________________________________________________________________________________________________\n",
      "dense_33 (Dense)                (None, 192)          49536       concatenate_28[0][0]             \n",
      "__________________________________________________________________________________________________\n",
      "concatenate_25 (Concatenate)    (None, 49)           0           dense_29[0][0]                   \n",
      "                                                                 input_32[0][0]                   \n",
      "__________________________________________________________________________________________________\n",
      "concatenate_27 (Concatenate)    (None, 97)           0           dense_31[0][0]                   \n",
      "                                                                 input_32[0][0]                   \n",
      "__________________________________________________________________________________________________\n",
      "concatenate_29 (Concatenate)    (None, 193)          0           dense_33[0][0]                   \n",
      "                                                                 input_32[0][0]                   \n",
      "__________________________________________________________________________________________________\n",
      "dense_34 (Dense)                (None, 1)            50          concatenate_25[0][0]             \n",
      "__________________________________________________________________________________________________\n",
      "dense_35 (Dense)                (None, 4)            392         concatenate_27[0][0]             \n",
      "__________________________________________________________________________________________________\n",
      "dense_36 (Dense)                (None, 8)            1552        concatenate_29[0][0]             \n",
      "==================================================================================================\n",
      "Total params: 1,286,658\n",
      "Trainable params: 1,286,658\n",
      "Non-trainable params: 0\n",
      "__________________________________________________________________________________________________\n"
     ]
    }
   ],
   "source": [
    "model.summary()"
   ]
  },
  {
   "cell_type": "code",
   "execution_count": null,
   "metadata": {},
   "outputs": [],
   "source": []
  }
 ],
 "metadata": {
  "kernelspec": {
   "display_name": "Python 3",
   "language": "python",
   "name": "python3"
  },
  "language_info": {
   "codemirror_mode": {
    "name": "ipython",
    "version": 3
   },
   "file_extension": ".py",
   "mimetype": "text/x-python",
   "name": "python",
   "nbconvert_exporter": "python",
   "pygments_lexer": "ipython3",
   "version": "3.6.5"
  }
 },
 "nbformat": 4,
 "nbformat_minor": 2
}
